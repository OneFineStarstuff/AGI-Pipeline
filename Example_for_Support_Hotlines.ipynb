{
  "nbformat": 4,
  "nbformat_minor": 0,
  "metadata": {
    "colab": {
      "private_outputs": true,
      "provenance": [],
      "authorship_tag": "ABX9TyN/WIxiBiD14UHHqyfkzlB3",
      "include_colab_link": true
    },
    "kernelspec": {
      "name": "python3",
      "display_name": "Python 3"
    },
    "language_info": {
      "name": "python"
    }
  },
  "cells": [
    {
      "cell_type": "markdown",
      "metadata": {
        "id": "view-in-github",
        "colab_type": "text"
      },
      "source": [
        "<a href=\"https://colab.research.google.com/github/OneFineStarstuff/AGI-Pipeline/blob/main/Example_for_Support_Hotlines.ipynb\" target=\"_parent\"><img src=\"https://colab.research.google.com/assets/colab-badge.svg\" alt=\"Open In Colab\"/></a>"
      ]
    },
    {
      "cell_type": "code",
      "execution_count": null,
      "metadata": {
        "id": "_NcPWL84FY-o"
      },
      "outputs": [],
      "source": [
        "class CrisisSupportBot:\n",
        "    def __init__(self):\n",
        "        self.hotlines = {\n",
        "            \"Mental Health\": \"1-800-123-4567\",\n",
        "            \"Disaster Relief\": \"1-800-987-6543\",\n",
        "        }  # Initialize the hotlines dictionary with predefined crisis categories and their corresponding hotline numbers\n",
        "\n",
        "    def get_hotline(self, category):\n",
        "        # Return the hotline number for the specified category\n",
        "        return self.hotlines.get(category, \"No hotline available for this category.\")\n",
        "\n",
        "# Example Usage\n",
        "crisis_bot = CrisisSupportBot()\n",
        "print(crisis_bot.get_hotline(\"Mental Health\"))\n",
        "# Output: 1-800-123-4567"
      ]
    }
  ]
}